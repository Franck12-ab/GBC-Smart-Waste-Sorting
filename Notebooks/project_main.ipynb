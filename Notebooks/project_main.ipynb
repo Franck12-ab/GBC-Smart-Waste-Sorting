{
 "cells": [
  {
   "cell_type": "markdown",
   "metadata": {
    "id": "Z9CrrZYyo3X9"
   },
   "source": [
    "# Project: GBC Smart Waste Sorting\n",
    "# Notebook: project_main.ipynb\n",
    "This notebook verifies the initial project setup for the AgileProjectManagement project. It checks if all required dataset folders are present and counts the number of images in each class."
   ]
  },
  {
   "cell_type": "code",
   "execution_count": 7,
   "metadata": {},
   "outputs": [
    {
     "name": "stdout",
     "output_type": "stream",
     "text": [
      "Verifying class folders...\n",
      "Found: cardboard\n",
      "Found: glass\n",
      "Found: metal\n",
      "Found: paper\n",
      "Found: plastic\n",
      "Found: trash\n",
      "\n",
      "All required class folders are present.\n"
     ]
    }
   ],
   "source": [
    "import os\n",
    "\n",
    "\n",
    "# Set dataset path\n",
    "DATA_DIR = \"../Data/raw data\"\n",
    "\n",
    "# Expected class folders\n",
    "expected_classes = ['cardboard', 'glass', 'metal', 'paper', 'plastic', 'trash']\n",
    "missing = []\n",
    "\n",
    "print(\"Verifying class folders...\")\n",
    "\n",
    "for cls in expected_classes:\n",
    "    path = os.path.join(DATA_DIR, cls)\n",
    "    if not os.path.isdir(path):\n",
    "        missing.append(cls)\n",
    "    else:\n",
    "        print(f\"Found: {cls}\")\n",
    "\n",
    "if missing:\n",
    "    print(\"\\nMissing folders:\", missing)\n",
    "else:\n",
    "    print(\"\\nAll required class folders are present.\")\n"
   ]
  },
  {
   "cell_type": "code",
   "execution_count": 8,
   "metadata": {},
   "outputs": [
    {
     "name": "stdout",
     "output_type": "stream",
     "text": [
      "\n",
      "Image Count per Class:\n",
      "cardboard: 403 images\n",
      "glass: 501 images\n",
      "metal: 410 images\n",
      "paper: 594 images\n",
      "plastic: 482 images\n",
      "trash: 137 images\n"
     ]
    }
   ],
   "source": [
    "# Count number of images per class\n",
    "print(\"\\nImage Count per Class:\")\n",
    "for cls in expected_classes:\n",
    "    path = os.path.join(DATA_DIR, cls)\n",
    "    if os.path.isdir(path):\n",
    "        count = len([img for img in os.listdir(path) if img.lower().endswith('.jpg')])\n",
    "        print(f\"{cls}: {count} images\")\n"
   ]
  }
 ],
 "metadata": {
  "colab": {
   "authorship_tag": "ABX9TyNSW7j06epgsLJKsCXivezJ",
   "provenance": []
  },
  "kernelspec": {
   "display_name": "agileenv",
   "language": "python",
   "name": "python3"
  },
  "language_info": {
   "codemirror_mode": {
    "name": "ipython",
    "version": 3
   },
   "file_extension": ".py",
   "mimetype": "text/x-python",
   "name": "python",
   "nbconvert_exporter": "python",
   "pygments_lexer": "ipython3",
   "version": "3.12.2"
  }
 },
 "nbformat": 4,
 "nbformat_minor": 0
}
